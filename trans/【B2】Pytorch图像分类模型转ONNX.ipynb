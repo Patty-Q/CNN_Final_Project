{
 "cells": [
  {
   "cell_type": "markdown",
   "id": "1c02c91b-e604-4778-b626-b06b350891de",
   "metadata": {},
   "source": [
    "# Pytorch图像分类模型转ONNX"
   ]
  },
  {
   "cell_type": "markdown",
   "id": "aab08f57-14e2-44bc-8562-51c7be68f074",
   "metadata": {},
   "source": [
    "## 导入工具包"
   ]
  },
  {
   "cell_type": "code",
   "execution_count": 1,
   "id": "f9baf99e-744e-462d-94b4-f3653cb743ca",
   "metadata": {},
   "outputs": [
    {
     "name": "stdout",
     "output_type": "stream",
     "text": [
      "device cuda:0\n"
     ]
    }
   ],
   "source": [
    "import torch\n",
    "from torchvision import models\n",
    "\n",
    "# 有 GPU 就用 GPU，没有就用 CPU\n",
    "device = torch.device('cuda:0' if torch.cuda.is_available() else 'cpu')\n",
    "print('device', device)"
   ]
  },
  {
   "cell_type": "markdown",
   "id": "83ca3195-6800-4c89-98a7-3fb0c44ec329",
   "metadata": {
    "tags": []
   },
   "source": [
    "## 导入训练好的模型"
   ]
  },
  {
   "cell_type": "code",
   "execution_count": 2,
   "id": "02c3ed4c-95d6-43ee-bc31-99b4e4c4f4d3",
   "metadata": {},
   "outputs": [
    {
     "name": "stdout",
     "output_type": "stream",
     "text": [
      "dict_keys(['epoch', 'model_name', 'state_dict', 'best_precision1', 'optimizer', 'fold', 'valid_loss'])\n",
      "模型已保存为 model_best.pth 文件！\n"
     ]
    }
   ],
   "source": [
    "import torch\n",
    "import torchvision  # 确保 torchvision 在主脚本中可用\n",
    "import torch.nn.functional as F \n",
    "from torch import nn\n",
    "def get_net():\n",
    "    model = torchvision.models.resnet50(pretrained = True) # 基于 ResNet50 预训练模型。\n",
    "    model.avgpool = nn.AdaptiveAvgPool2d(1) # 修改了模型的平均池化层和全连接层。\n",
    "    model.fc = nn.Linear(2048,59) # 适用于需要高效特征提取的分类任务。\n",
    "    return model\n",
    "\n",
    "checkpoint = torch.load('../checkpoints/best_model/0/model_best.pth.tar')\n",
    "print(checkpoint.keys())\n",
    "# 提取模型的参数\n",
    "model = get_net()\n",
    "model = torch.nn.DataParallel(model) # 使用 DataParallel 包装模型，以便在多GPU上并行训练。\n",
    "device = torch.device('cuda' if torch.cuda.device_count() > 0 else 'cpu') \n",
    "    \n",
    "# 打印检查点中 state_dict 的键值\n",
    "\n",
    "\n",
    "model.load_state_dict(checkpoint['state_dict'])\n",
    "torch.save(model, 'model_best.pth')\n",
    "\n",
    "print(\"模型已保存为 model_best.pth 文件！\")"
   ]
  },
  {
   "cell_type": "code",
   "execution_count": 3,
   "id": "04824a4e-29ef-4048-af6e-e2442e388b69",
   "metadata": {},
   "outputs": [],
   "source": [
    "model = torch.load('model_best.pth')\n",
    "model = model.eval().to(device)"
   ]
  },
  {
   "cell_type": "markdown",
   "id": "da4f311a-9545-47f4-8165-2a98a129f75e",
   "metadata": {},
   "source": [
    "## 构造一个输入图像Tensor"
   ]
  },
  {
   "cell_type": "code",
   "execution_count": 4,
   "id": "f3e41561-1d86-4f1d-b98d-c19373635bd8",
   "metadata": {},
   "outputs": [],
   "source": [
    "x = torch.randn(1, 3, 256, 256).to(device)"
   ]
  },
  {
   "cell_type": "markdown",
   "id": "27268055-1442-4e47-9f87-3ffee13256e1",
   "metadata": {},
   "source": [
    "## 输入Pytorch模型推理预测，获得59个类别的预测结果"
   ]
  },
  {
   "cell_type": "code",
   "execution_count": 5,
   "id": "6fa9b2ec-ec96-419e-a289-5615ea57b00b",
   "metadata": {},
   "outputs": [],
   "source": [
    "output = model(x)"
   ]
  },
  {
   "cell_type": "code",
   "execution_count": 6,
   "id": "bb5ffda8-26af-4d9b-8770-3de9de27958c",
   "metadata": {},
   "outputs": [
    {
     "data": {
      "text/plain": [
       "torch.Size([1, 59])"
      ]
     },
     "execution_count": 6,
     "metadata": {},
     "output_type": "execute_result"
    }
   ],
   "source": [
    "output.shape"
   ]
  },
  {
   "cell_type": "markdown",
   "id": "8b8bb112-e3d4-4abe-ab51-b09ed29ef682",
   "metadata": {},
   "source": [
    "## Pytorch模型转ONNX模型"
   ]
  },
  {
   "cell_type": "code",
   "execution_count": 12,
   "id": "4adf4e24-93f5-4467-b011-e69c45d45bd3",
   "metadata": {},
   "outputs": [],
   "source": [
    "x = torch.randn(1, 3, 256, 256).to(device)\n",
    "\n",
    "# 解包为原始模型\n",
    "if isinstance(model, torch.nn.DataParallel):\n",
    "    model = model.module\n",
    "\n",
    "# 然后再进行导出\n",
    "torch.onnx.export(model,               # 解包后的模型\n",
    "                  x,        # 输入 Tensor（需要符合模型的输入要求）\n",
    "                  \"resnet50-cls59.onnx\",        # 导出文件名\n",
    "                  export_params=True,  # 导出参数\n",
    "                  opset_version=11,    # ONNX opset 版本\n",
    "                  do_constant_folding=True,  # 是否执行常量折叠优化\n",
    "                  input_names=['input'],     # 输入节点名称\n",
    "                  output_names=['output'])   # 输出节点名称\n"
   ]
  },
  {
   "cell_type": "markdown",
   "id": "9f30be68-1c30-43cd-be36-541b3035d933",
   "metadata": {},
   "source": [
    "## 验证onnx模型导出成功"
   ]
  },
  {
   "cell_type": "code",
   "execution_count": 14,
   "id": "067ce090-879a-4b05-af90-c7da47d84cc2",
   "metadata": {},
   "outputs": [
    {
     "name": "stdout",
     "output_type": "stream",
     "text": [
      "无报错，onnx模型载入成功\n"
     ]
    }
   ],
   "source": [
    "import onnx\n",
    "\n",
    "# 读取 ONNX 模型\n",
    "onnx_model = onnx.load('resnet50-cls59.onnx')\n",
    "\n",
    "# 检查模型格式是否正确\n",
    "onnx.checker.check_model(onnx_model)\n",
    "\n",
    "print('无报错，onnx模型载入成功')"
   ]
  },
  {
   "cell_type": "markdown",
   "id": "9fa98064-6ac5-4072-a331-8513b3e29a03",
   "metadata": {},
   "source": [
    "## 以可读的形式打印计算图"
   ]
  },
  {
   "cell_type": "code",
   "execution_count": 15,
   "id": "333c59c1-6118-44e1-b892-e0a58d47cff1",
   "metadata": {},
   "outputs": [
    {
     "name": "stdout",
     "output_type": "stream",
     "text": [
      "graph torch-jit-export (\n",
      "  %input[FLOAT, 1x3x256x256]\n",
      ") initializers (\n",
      "  %497[FLOAT, 64x3x7x7]\n",
      "  %498[FLOAT, 64]\n",
      "  %500[FLOAT, 64x64x1x1]\n",
      "  %501[FLOAT, 64]\n",
      "  %503[FLOAT, 64x64x3x3]\n",
      "  %504[FLOAT, 64]\n",
      "  %506[FLOAT, 256x64x1x1]\n",
      "  %507[FLOAT, 256]\n",
      "  %509[FLOAT, 256x64x1x1]\n",
      "  %510[FLOAT, 256]\n",
      "  %512[FLOAT, 64x256x1x1]\n",
      "  %513[FLOAT, 64]\n",
      "  %515[FLOAT, 64x64x3x3]\n",
      "  %516[FLOAT, 64]\n",
      "  %518[FLOAT, 256x64x1x1]\n",
      "  %519[FLOAT, 256]\n",
      "  %521[FLOAT, 64x256x1x1]\n",
      "  %522[FLOAT, 64]\n",
      "  %524[FLOAT, 64x64x3x3]\n",
      "  %525[FLOAT, 64]\n",
      "  %527[FLOAT, 256x64x1x1]\n",
      "  %528[FLOAT, 256]\n",
      "  %530[FLOAT, 128x256x1x1]\n",
      "  %531[FLOAT, 128]\n",
      "  %533[FLOAT, 128x128x3x3]\n",
      "  %534[FLOAT, 128]\n",
      "  %536[FLOAT, 512x128x1x1]\n",
      "  %537[FLOAT, 512]\n",
      "  %539[FLOAT, 512x256x1x1]\n",
      "  %540[FLOAT, 512]\n",
      "  %542[FLOAT, 128x512x1x1]\n",
      "  %543[FLOAT, 128]\n",
      "  %545[FLOAT, 128x128x3x3]\n",
      "  %546[FLOAT, 128]\n",
      "  %548[FLOAT, 512x128x1x1]\n",
      "  %549[FLOAT, 512]\n",
      "  %551[FLOAT, 128x512x1x1]\n",
      "  %552[FLOAT, 128]\n",
      "  %554[FLOAT, 128x128x3x3]\n",
      "  %555[FLOAT, 128]\n",
      "  %557[FLOAT, 512x128x1x1]\n",
      "  %558[FLOAT, 512]\n",
      "  %560[FLOAT, 128x512x1x1]\n",
      "  %561[FLOAT, 128]\n",
      "  %563[FLOAT, 128x128x3x3]\n",
      "  %564[FLOAT, 128]\n",
      "  %566[FLOAT, 512x128x1x1]\n",
      "  %567[FLOAT, 512]\n",
      "  %569[FLOAT, 256x512x1x1]\n",
      "  %570[FLOAT, 256]\n",
      "  %572[FLOAT, 256x256x3x3]\n",
      "  %573[FLOAT, 256]\n",
      "  %575[FLOAT, 1024x256x1x1]\n",
      "  %576[FLOAT, 1024]\n",
      "  %578[FLOAT, 1024x512x1x1]\n",
      "  %579[FLOAT, 1024]\n",
      "  %581[FLOAT, 256x1024x1x1]\n",
      "  %582[FLOAT, 256]\n",
      "  %584[FLOAT, 256x256x3x3]\n",
      "  %585[FLOAT, 256]\n",
      "  %587[FLOAT, 1024x256x1x1]\n",
      "  %588[FLOAT, 1024]\n",
      "  %590[FLOAT, 256x1024x1x1]\n",
      "  %591[FLOAT, 256]\n",
      "  %593[FLOAT, 256x256x3x3]\n",
      "  %594[FLOAT, 256]\n",
      "  %596[FLOAT, 1024x256x1x1]\n",
      "  %597[FLOAT, 1024]\n",
      "  %599[FLOAT, 256x1024x1x1]\n",
      "  %600[FLOAT, 256]\n",
      "  %602[FLOAT, 256x256x3x3]\n",
      "  %603[FLOAT, 256]\n",
      "  %605[FLOAT, 1024x256x1x1]\n",
      "  %606[FLOAT, 1024]\n",
      "  %608[FLOAT, 256x1024x1x1]\n",
      "  %609[FLOAT, 256]\n",
      "  %611[FLOAT, 256x256x3x3]\n",
      "  %612[FLOAT, 256]\n",
      "  %614[FLOAT, 1024x256x1x1]\n",
      "  %615[FLOAT, 1024]\n",
      "  %617[FLOAT, 256x1024x1x1]\n",
      "  %618[FLOAT, 256]\n",
      "  %620[FLOAT, 256x256x3x3]\n",
      "  %621[FLOAT, 256]\n",
      "  %623[FLOAT, 1024x256x1x1]\n",
      "  %624[FLOAT, 1024]\n",
      "  %626[FLOAT, 512x1024x1x1]\n",
      "  %627[FLOAT, 512]\n",
      "  %629[FLOAT, 512x512x3x3]\n",
      "  %630[FLOAT, 512]\n",
      "  %632[FLOAT, 2048x512x1x1]\n",
      "  %633[FLOAT, 2048]\n",
      "  %635[FLOAT, 2048x1024x1x1]\n",
      "  %636[FLOAT, 2048]\n",
      "  %638[FLOAT, 512x2048x1x1]\n",
      "  %639[FLOAT, 512]\n",
      "  %641[FLOAT, 512x512x3x3]\n",
      "  %642[FLOAT, 512]\n",
      "  %644[FLOAT, 2048x512x1x1]\n",
      "  %645[FLOAT, 2048]\n",
      "  %647[FLOAT, 512x2048x1x1]\n",
      "  %648[FLOAT, 512]\n",
      "  %650[FLOAT, 512x512x3x3]\n",
      "  %651[FLOAT, 512]\n",
      "  %653[FLOAT, 2048x512x1x1]\n",
      "  %654[FLOAT, 2048]\n",
      "  %fc.bias[FLOAT, 59]\n",
      "  %fc.weight[FLOAT, 59x2048]\n",
      ") {\n",
      "  %496 = Conv[dilations = [1, 1], group = 1, kernel_shape = [7, 7], pads = [3, 3, 3, 3], strides = [2, 2]](%input, %497, %498)\n",
      "  %323 = Relu(%496)\n",
      "  %324 = MaxPool[ceil_mode = 0, kernel_shape = [3, 3], pads = [1, 1, 1, 1], strides = [2, 2]](%323)\n",
      "  %499 = Conv[dilations = [1, 1], group = 1, kernel_shape = [1, 1], pads = [0, 0, 0, 0], strides = [1, 1]](%324, %500, %501)\n",
      "  %327 = Relu(%499)\n",
      "  %502 = Conv[dilations = [1, 1], group = 1, kernel_shape = [3, 3], pads = [1, 1, 1, 1], strides = [1, 1]](%327, %503, %504)\n",
      "  %330 = Relu(%502)\n",
      "  %505 = Conv[dilations = [1, 1], group = 1, kernel_shape = [1, 1], pads = [0, 0, 0, 0], strides = [1, 1]](%330, %506, %507)\n",
      "  %508 = Conv[dilations = [1, 1], group = 1, kernel_shape = [1, 1], pads = [0, 0, 0, 0], strides = [1, 1]](%324, %509, %510)\n",
      "  %335 = Add(%505, %508)\n",
      "  %336 = Relu(%335)\n",
      "  %511 = Conv[dilations = [1, 1], group = 1, kernel_shape = [1, 1], pads = [0, 0, 0, 0], strides = [1, 1]](%336, %512, %513)\n",
      "  %339 = Relu(%511)\n",
      "  %514 = Conv[dilations = [1, 1], group = 1, kernel_shape = [3, 3], pads = [1, 1, 1, 1], strides = [1, 1]](%339, %515, %516)\n",
      "  %342 = Relu(%514)\n",
      "  %517 = Conv[dilations = [1, 1], group = 1, kernel_shape = [1, 1], pads = [0, 0, 0, 0], strides = [1, 1]](%342, %518, %519)\n",
      "  %345 = Add(%517, %336)\n",
      "  %346 = Relu(%345)\n",
      "  %520 = Conv[dilations = [1, 1], group = 1, kernel_shape = [1, 1], pads = [0, 0, 0, 0], strides = [1, 1]](%346, %521, %522)\n",
      "  %349 = Relu(%520)\n",
      "  %523 = Conv[dilations = [1, 1], group = 1, kernel_shape = [3, 3], pads = [1, 1, 1, 1], strides = [1, 1]](%349, %524, %525)\n",
      "  %352 = Relu(%523)\n",
      "  %526 = Conv[dilations = [1, 1], group = 1, kernel_shape = [1, 1], pads = [0, 0, 0, 0], strides = [1, 1]](%352, %527, %528)\n",
      "  %355 = Add(%526, %346)\n",
      "  %356 = Relu(%355)\n",
      "  %529 = Conv[dilations = [1, 1], group = 1, kernel_shape = [1, 1], pads = [0, 0, 0, 0], strides = [1, 1]](%356, %530, %531)\n",
      "  %359 = Relu(%529)\n",
      "  %532 = Conv[dilations = [1, 1], group = 1, kernel_shape = [3, 3], pads = [1, 1, 1, 1], strides = [2, 2]](%359, %533, %534)\n",
      "  %362 = Relu(%532)\n",
      "  %535 = Conv[dilations = [1, 1], group = 1, kernel_shape = [1, 1], pads = [0, 0, 0, 0], strides = [1, 1]](%362, %536, %537)\n",
      "  %538 = Conv[dilations = [1, 1], group = 1, kernel_shape = [1, 1], pads = [0, 0, 0, 0], strides = [2, 2]](%356, %539, %540)\n",
      "  %367 = Add(%535, %538)\n",
      "  %368 = Relu(%367)\n",
      "  %541 = Conv[dilations = [1, 1], group = 1, kernel_shape = [1, 1], pads = [0, 0, 0, 0], strides = [1, 1]](%368, %542, %543)\n",
      "  %371 = Relu(%541)\n",
      "  %544 = Conv[dilations = [1, 1], group = 1, kernel_shape = [3, 3], pads = [1, 1, 1, 1], strides = [1, 1]](%371, %545, %546)\n",
      "  %374 = Relu(%544)\n",
      "  %547 = Conv[dilations = [1, 1], group = 1, kernel_shape = [1, 1], pads = [0, 0, 0, 0], strides = [1, 1]](%374, %548, %549)\n",
      "  %377 = Add(%547, %368)\n",
      "  %378 = Relu(%377)\n",
      "  %550 = Conv[dilations = [1, 1], group = 1, kernel_shape = [1, 1], pads = [0, 0, 0, 0], strides = [1, 1]](%378, %551, %552)\n",
      "  %381 = Relu(%550)\n",
      "  %553 = Conv[dilations = [1, 1], group = 1, kernel_shape = [3, 3], pads = [1, 1, 1, 1], strides = [1, 1]](%381, %554, %555)\n",
      "  %384 = Relu(%553)\n",
      "  %556 = Conv[dilations = [1, 1], group = 1, kernel_shape = [1, 1], pads = [0, 0, 0, 0], strides = [1, 1]](%384, %557, %558)\n",
      "  %387 = Add(%556, %378)\n",
      "  %388 = Relu(%387)\n",
      "  %559 = Conv[dilations = [1, 1], group = 1, kernel_shape = [1, 1], pads = [0, 0, 0, 0], strides = [1, 1]](%388, %560, %561)\n",
      "  %391 = Relu(%559)\n",
      "  %562 = Conv[dilations = [1, 1], group = 1, kernel_shape = [3, 3], pads = [1, 1, 1, 1], strides = [1, 1]](%391, %563, %564)\n",
      "  %394 = Relu(%562)\n",
      "  %565 = Conv[dilations = [1, 1], group = 1, kernel_shape = [1, 1], pads = [0, 0, 0, 0], strides = [1, 1]](%394, %566, %567)\n",
      "  %397 = Add(%565, %388)\n",
      "  %398 = Relu(%397)\n",
      "  %568 = Conv[dilations = [1, 1], group = 1, kernel_shape = [1, 1], pads = [0, 0, 0, 0], strides = [1, 1]](%398, %569, %570)\n",
      "  %401 = Relu(%568)\n",
      "  %571 = Conv[dilations = [1, 1], group = 1, kernel_shape = [3, 3], pads = [1, 1, 1, 1], strides = [2, 2]](%401, %572, %573)\n",
      "  %404 = Relu(%571)\n",
      "  %574 = Conv[dilations = [1, 1], group = 1, kernel_shape = [1, 1], pads = [0, 0, 0, 0], strides = [1, 1]](%404, %575, %576)\n",
      "  %577 = Conv[dilations = [1, 1], group = 1, kernel_shape = [1, 1], pads = [0, 0, 0, 0], strides = [2, 2]](%398, %578, %579)\n",
      "  %409 = Add(%574, %577)\n",
      "  %410 = Relu(%409)\n",
      "  %580 = Conv[dilations = [1, 1], group = 1, kernel_shape = [1, 1], pads = [0, 0, 0, 0], strides = [1, 1]](%410, %581, %582)\n",
      "  %413 = Relu(%580)\n",
      "  %583 = Conv[dilations = [1, 1], group = 1, kernel_shape = [3, 3], pads = [1, 1, 1, 1], strides = [1, 1]](%413, %584, %585)\n",
      "  %416 = Relu(%583)\n",
      "  %586 = Conv[dilations = [1, 1], group = 1, kernel_shape = [1, 1], pads = [0, 0, 0, 0], strides = [1, 1]](%416, %587, %588)\n",
      "  %419 = Add(%586, %410)\n",
      "  %420 = Relu(%419)\n",
      "  %589 = Conv[dilations = [1, 1], group = 1, kernel_shape = [1, 1], pads = [0, 0, 0, 0], strides = [1, 1]](%420, %590, %591)\n",
      "  %423 = Relu(%589)\n",
      "  %592 = Conv[dilations = [1, 1], group = 1, kernel_shape = [3, 3], pads = [1, 1, 1, 1], strides = [1, 1]](%423, %593, %594)\n",
      "  %426 = Relu(%592)\n",
      "  %595 = Conv[dilations = [1, 1], group = 1, kernel_shape = [1, 1], pads = [0, 0, 0, 0], strides = [1, 1]](%426, %596, %597)\n",
      "  %429 = Add(%595, %420)\n",
      "  %430 = Relu(%429)\n",
      "  %598 = Conv[dilations = [1, 1], group = 1, kernel_shape = [1, 1], pads = [0, 0, 0, 0], strides = [1, 1]](%430, %599, %600)\n",
      "  %433 = Relu(%598)\n",
      "  %601 = Conv[dilations = [1, 1], group = 1, kernel_shape = [3, 3], pads = [1, 1, 1, 1], strides = [1, 1]](%433, %602, %603)\n",
      "  %436 = Relu(%601)\n",
      "  %604 = Conv[dilations = [1, 1], group = 1, kernel_shape = [1, 1], pads = [0, 0, 0, 0], strides = [1, 1]](%436, %605, %606)\n",
      "  %439 = Add(%604, %430)\n",
      "  %440 = Relu(%439)\n",
      "  %607 = Conv[dilations = [1, 1], group = 1, kernel_shape = [1, 1], pads = [0, 0, 0, 0], strides = [1, 1]](%440, %608, %609)\n",
      "  %443 = Relu(%607)\n",
      "  %610 = Conv[dilations = [1, 1], group = 1, kernel_shape = [3, 3], pads = [1, 1, 1, 1], strides = [1, 1]](%443, %611, %612)\n",
      "  %446 = Relu(%610)\n",
      "  %613 = Conv[dilations = [1, 1], group = 1, kernel_shape = [1, 1], pads = [0, 0, 0, 0], strides = [1, 1]](%446, %614, %615)\n",
      "  %449 = Add(%613, %440)\n",
      "  %450 = Relu(%449)\n",
      "  %616 = Conv[dilations = [1, 1], group = 1, kernel_shape = [1, 1], pads = [0, 0, 0, 0], strides = [1, 1]](%450, %617, %618)\n",
      "  %453 = Relu(%616)\n",
      "  %619 = Conv[dilations = [1, 1], group = 1, kernel_shape = [3, 3], pads = [1, 1, 1, 1], strides = [1, 1]](%453, %620, %621)\n",
      "  %456 = Relu(%619)\n",
      "  %622 = Conv[dilations = [1, 1], group = 1, kernel_shape = [1, 1], pads = [0, 0, 0, 0], strides = [1, 1]](%456, %623, %624)\n",
      "  %459 = Add(%622, %450)\n",
      "  %460 = Relu(%459)\n",
      "  %625 = Conv[dilations = [1, 1], group = 1, kernel_shape = [1, 1], pads = [0, 0, 0, 0], strides = [1, 1]](%460, %626, %627)\n",
      "  %463 = Relu(%625)\n",
      "  %628 = Conv[dilations = [1, 1], group = 1, kernel_shape = [3, 3], pads = [1, 1, 1, 1], strides = [2, 2]](%463, %629, %630)\n",
      "  %466 = Relu(%628)\n",
      "  %631 = Conv[dilations = [1, 1], group = 1, kernel_shape = [1, 1], pads = [0, 0, 0, 0], strides = [1, 1]](%466, %632, %633)\n",
      "  %634 = Conv[dilations = [1, 1], group = 1, kernel_shape = [1, 1], pads = [0, 0, 0, 0], strides = [2, 2]](%460, %635, %636)\n",
      "  %471 = Add(%631, %634)\n",
      "  %472 = Relu(%471)\n",
      "  %637 = Conv[dilations = [1, 1], group = 1, kernel_shape = [1, 1], pads = [0, 0, 0, 0], strides = [1, 1]](%472, %638, %639)\n",
      "  %475 = Relu(%637)\n",
      "  %640 = Conv[dilations = [1, 1], group = 1, kernel_shape = [3, 3], pads = [1, 1, 1, 1], strides = [1, 1]](%475, %641, %642)\n",
      "  %478 = Relu(%640)\n",
      "  %643 = Conv[dilations = [1, 1], group = 1, kernel_shape = [1, 1], pads = [0, 0, 0, 0], strides = [1, 1]](%478, %644, %645)\n",
      "  %481 = Add(%643, %472)\n",
      "  %482 = Relu(%481)\n",
      "  %646 = Conv[dilations = [1, 1], group = 1, kernel_shape = [1, 1], pads = [0, 0, 0, 0], strides = [1, 1]](%482, %647, %648)\n",
      "  %485 = Relu(%646)\n",
      "  %649 = Conv[dilations = [1, 1], group = 1, kernel_shape = [3, 3], pads = [1, 1, 1, 1], strides = [1, 1]](%485, %650, %651)\n",
      "  %488 = Relu(%649)\n",
      "  %652 = Conv[dilations = [1, 1], group = 1, kernel_shape = [1, 1], pads = [0, 0, 0, 0], strides = [1, 1]](%488, %653, %654)\n",
      "  %491 = Add(%652, %482)\n",
      "  %492 = Relu(%491)\n",
      "  %493 = GlobalAveragePool(%492)\n",
      "  %494 = Flatten[axis = 1](%493)\n",
      "  %output = Gemm[alpha = 1, beta = 1, transB = 1](%494, %fc.weight, %fc.bias)\n",
      "  return %output\n",
      "}\n"
     ]
    }
   ],
   "source": [
    "print(onnx.helper.printable_graph(onnx_model.graph))"
   ]
  },
  {
   "cell_type": "markdown",
   "id": "357612e0-d5ba-422b-8ccb-cfc46e2d2616",
   "metadata": {},
   "source": [
    "## 使用Netron可视化模型结构\n",
    "\n",
    "Netron：https://netron.app"
   ]
  },
  {
   "cell_type": "code",
   "execution_count": null,
   "id": "0c424032-6fe5-4e78-b118-1fd993d6ebb4",
   "metadata": {},
   "outputs": [],
   "source": []
  }
 ],
 "metadata": {
  "kernelspec": {
   "display_name": "Python 3 (ipykernel)",
   "language": "python",
   "name": "python3"
  },
  "language_info": {
   "codemirror_mode": {
    "name": "ipython",
    "version": 3
   },
   "file_extension": ".py",
   "mimetype": "text/x-python",
   "name": "python",
   "nbconvert_exporter": "python",
   "pygments_lexer": "ipython3",
   "version": "3.8.10"
  }
 },
 "nbformat": 4,
 "nbformat_minor": 5
}
