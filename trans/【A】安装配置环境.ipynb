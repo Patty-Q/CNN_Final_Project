{
 "cells": [
  {
   "cell_type": "markdown",
   "id": "68aa2c39-1a4b-4d3c-ab35-3d44896f2f67",
   "metadata": {},
   "source": [
    "# 安装配置环境"
   ]
  },
  {
   "cell_type": "markdown",
   "id": "3835364b-b8ca-4361-965f-b1ca65355227",
   "metadata": {},
   "source": [
    "## 安装 Pytorch"
   ]
  },
  {
   "cell_type": "code",
   "execution_count": null,
   "id": "f9c9f8de-2c5e-477e-8893-f1435e3ff331",
   "metadata": {},
   "outputs": [],
   "source": [
    "!pip3 install torch torchvision --extra-index-url https://download.pytorch.org/whl/cu113"
   ]
  },
  {
   "cell_type": "markdown",
   "id": "96aa0774-0576-4966-ab70-a7fd3092b8be",
   "metadata": {},
   "source": [
    "## 安装 ONNX"
   ]
  },
  {
   "cell_type": "code",
   "execution_count": 1,
   "id": "175eecb2-b225-466b-a5d6-031740aeb78a",
   "metadata": {},
   "outputs": [
    {
     "name": "stdout",
     "output_type": "stream",
     "text": [
      "Looking in indexes: https://pypi.tuna.tsinghua.edu.cn/simple\n",
      "Collecting onnx\n",
      "  Downloading https://pypi.tuna.tsinghua.edu.cn/packages/fb/4c/687f641702f3d3c67ce01a17d93cf2a83d7f9d9cb32bd18e397d4ff9580d/onnx-1.17.0-cp38-cp38-manylinux_2_17_x86_64.manylinux2014_x86_64.whl (16.0 MB)\n",
      "\u001b[K     |████████████████████████████████| 16.0 MB 2.9 MB/s eta 0:00:01\n",
      "\u001b[?25hRequirement already satisfied: numpy>=1.20 in /root/miniconda3/lib/python3.8/site-packages (from onnx) (1.21.2)\n",
      "Collecting protobuf>=3.20.2\n",
      "  Downloading https://pypi.tuna.tsinghua.edu.cn/packages/5d/ae/3257b09328c0b4e59535e497b0c7537d4954038bdd53a2f0d2f49d15a7c4/protobuf-5.28.3-cp38-abi3-manylinux2014_x86_64.whl (316 kB)\n",
      "\u001b[K     |████████████████████████████████| 316 kB 120.6 MB/s eta 0:00:01\n",
      "\u001b[?25hInstalling collected packages: protobuf, onnx\n",
      "  Attempting uninstall: protobuf\n",
      "    Found existing installation: protobuf 3.18.0\n",
      "    Uninstalling protobuf-3.18.0:\n",
      "      Successfully uninstalled protobuf-3.18.0\n",
      "Successfully installed onnx-1.17.0 protobuf-5.28.3\n",
      "\u001b[33mWARNING: Running pip as the 'root' user can result in broken permissions and conflicting behaviour with the system package manager. It is recommended to use a virtual environment instead: https://pip.pypa.io/warnings/venv\u001b[0m\n"
     ]
    }
   ],
   "source": [
    "!pip install onnx -i https://pypi.tuna.tsinghua.edu.cn/simple"
   ]
  },
  {
   "cell_type": "markdown",
   "id": "876de399-982e-48a9-b7cb-7b5b4c95fcc7",
   "metadata": {},
   "source": [
    "## 安装推理引擎 ONNX Runtime"
   ]
  },
  {
   "cell_type": "code",
   "execution_count": 2,
   "id": "a66fcd4d-d214-4d59-b903-ede62b1a60da",
   "metadata": {},
   "outputs": [
    {
     "name": "stdout",
     "output_type": "stream",
     "text": [
      "Looking in indexes: https://pypi.tuna.tsinghua.edu.cn/simple\n",
      "Collecting onnxruntime\n",
      "  Downloading https://pypi.tuna.tsinghua.edu.cn/packages/29/0e/2a5cfe2d7113f4b5c47b51a4dd0a961196cb2cf72d6f1952de36ba1e3147/onnxruntime-1.19.2-cp38-cp38-manylinux_2_27_x86_64.manylinux_2_28_x86_64.whl (13.2 MB)\n",
      "\u001b[K     |████████████████████████████████| 13.2 MB 3.7 MB/s eta 0:00:01\n",
      "\u001b[?25hCollecting flatbuffers\n",
      "  Downloading https://pypi.tuna.tsinghua.edu.cn/packages/41/f0/7e988a019bc54b2dbd0ad4182ef2d53488bb02e58694cd79d61369e85900/flatbuffers-24.3.25-py2.py3-none-any.whl (26 kB)\n",
      "Requirement already satisfied: protobuf in /root/miniconda3/lib/python3.8/site-packages (from onnxruntime) (5.28.3)\n",
      "Collecting sympy\n",
      "  Downloading https://pypi.tuna.tsinghua.edu.cn/packages/99/ff/c87e0622b1dadea79d2fb0b25ade9ed98954c9033722eb707053d310d4f3/sympy-1.13.3-py3-none-any.whl (6.2 MB)\n",
      "\u001b[K     |████████████████████████████████| 6.2 MB 122.4 MB/s eta 0:00:01\n",
      "\u001b[?25hCollecting coloredlogs\n",
      "  Downloading https://pypi.tuna.tsinghua.edu.cn/packages/a7/06/3d6badcf13db419e25b07041d9c7b4a2c331d3f4e7134445ec5df57714cd/coloredlogs-15.0.1-py2.py3-none-any.whl (46 kB)\n",
      "\u001b[K     |████████████████████████████████| 46 kB 12.7 MB/s eta 0:00:01\n",
      "\u001b[?25hRequirement already satisfied: packaging in /root/miniconda3/lib/python3.8/site-packages (from onnxruntime) (21.0)\n",
      "Collecting numpy>=1.21.6\n",
      "  Downloading https://pypi.tuna.tsinghua.edu.cn/packages/98/5d/5738903efe0ecb73e51eb44feafba32bdba2081263d40c5043568ff60faf/numpy-1.24.4-cp38-cp38-manylinux_2_17_x86_64.manylinux2014_x86_64.whl (17.3 MB)\n",
      "\u001b[K     |████████████████████████████████| 17.3 MB 117.8 MB/s eta 0:00:01\n",
      "\u001b[?25hCollecting humanfriendly>=9.1\n",
      "  Downloading https://pypi.tuna.tsinghua.edu.cn/packages/f0/0f/310fb31e39e2d734ccaa2c0fb981ee41f7bd5056ce9bc29b2248bd569169/humanfriendly-10.0-py2.py3-none-any.whl (86 kB)\n",
      "\u001b[K     |████████████████████████████████| 86 kB 19.0 MB/s  eta 0:00:01\n",
      "\u001b[?25hRequirement already satisfied: pyparsing>=2.0.2 in /root/miniconda3/lib/python3.8/site-packages (from packaging->onnxruntime) (2.4.7)\n",
      "Collecting mpmath<1.4,>=1.1.0\n",
      "  Downloading https://pypi.tuna.tsinghua.edu.cn/packages/43/e3/7d92a15f894aa0c9c4b49b8ee9ac9850d6e63b03c9c32c0367a13ae62209/mpmath-1.3.0-py3-none-any.whl (536 kB)\n",
      "\u001b[K     |████████████████████████████████| 536 kB 132.5 MB/s eta 0:00:01\n",
      "\u001b[?25hInstalling collected packages: mpmath, humanfriendly, sympy, numpy, flatbuffers, coloredlogs, onnxruntime\n",
      "  Attempting uninstall: numpy\n",
      "    Found existing installation: numpy 1.21.2\n",
      "    Uninstalling numpy-1.21.2:\n",
      "      Successfully uninstalled numpy-1.21.2\n",
      "Successfully installed coloredlogs-15.0.1 flatbuffers-24.3.25 humanfriendly-10.0 mpmath-1.3.0 numpy-1.24.4 onnxruntime-1.19.2 sympy-1.13.3\n",
      "\u001b[33mWARNING: Running pip as the 'root' user can result in broken permissions and conflicting behaviour with the system package manager. It is recommended to use a virtual environment instead: https://pip.pypa.io/warnings/venv\u001b[0m\n"
     ]
    }
   ],
   "source": [
    "!pip install onnxruntime -i https://pypi.tuna.tsinghua.edu.cn/simple"
   ]
  },
  {
   "cell_type": "markdown",
   "id": "30403df6-dd55-429e-8b4b-6ff36413c306",
   "metadata": {},
   "source": [
    "## 安装其它第三方工具包"
   ]
  },
  {
   "cell_type": "code",
   "execution_count": 3,
   "id": "83c98888-79c0-4f4c-8e64-b9cc65ac797e",
   "metadata": {},
   "outputs": [
    {
     "name": "stdout",
     "output_type": "stream",
     "text": [
      "Looking in indexes: https://pypi.tuna.tsinghua.edu.cn/simple\n",
      "Requirement already satisfied: numpy in /root/miniconda3/lib/python3.8/site-packages (1.24.4)\n",
      "Requirement already satisfied: pandas in /root/miniconda3/lib/python3.8/site-packages (2.0.3)\n",
      "Requirement already satisfied: matplotlib in /root/miniconda3/lib/python3.8/site-packages (3.4.3)\n",
      "Requirement already satisfied: tqdm in /root/miniconda3/lib/python3.8/site-packages (4.61.2)\n",
      "Requirement already satisfied: opencv-python in /root/miniconda3/lib/python3.8/site-packages (4.10.0.84)\n",
      "Requirement already satisfied: pillow in /root/miniconda3/lib/python3.8/site-packages (8.3.2)\n",
      "Requirement already satisfied: pytz>=2020.1 in /root/miniconda3/lib/python3.8/site-packages (from pandas) (2021.1)\n",
      "Requirement already satisfied: python-dateutil>=2.8.2 in /root/miniconda3/lib/python3.8/site-packages (from pandas) (2.8.2)\n",
      "Requirement already satisfied: tzdata>=2022.1 in /root/miniconda3/lib/python3.8/site-packages (from pandas) (2024.2)\n",
      "Requirement already satisfied: six>=1.5 in /root/miniconda3/lib/python3.8/site-packages (from python-dateutil>=2.8.2->pandas) (1.16.0)\n",
      "Requirement already satisfied: cycler>=0.10 in /root/miniconda3/lib/python3.8/site-packages (from matplotlib) (0.10.0)\n",
      "Requirement already satisfied: pyparsing>=2.2.1 in /root/miniconda3/lib/python3.8/site-packages (from matplotlib) (2.4.7)\n",
      "Requirement already satisfied: kiwisolver>=1.0.1 in /root/miniconda3/lib/python3.8/site-packages (from matplotlib) (1.3.2)\n",
      "\u001b[33mWARNING: Running pip as the 'root' user can result in broken permissions and conflicting behaviour with the system package manager. It is recommended to use a virtual environment instead: https://pip.pypa.io/warnings/venv\u001b[0m\n"
     ]
    }
   ],
   "source": [
    "!pip install numpy pandas matplotlib tqdm opencv-python pillow -i https://pypi.tuna.tsinghua.edu.cn/simple"
   ]
  },
  {
   "cell_type": "markdown",
   "id": "5edbbb7e-51a6-408e-abc2-94709e698da1",
   "metadata": {},
   "source": [
    "## 验证安装配置成功"
   ]
  },
  {
   "cell_type": "code",
   "execution_count": 4,
   "id": "dd572b2f-680b-4a26-b8d0-de12bdc4cc4c",
   "metadata": {},
   "outputs": [
    {
     "name": "stdout",
     "output_type": "stream",
     "text": [
      "PyTorch 版本 1.7.0+cu110\n"
     ]
    }
   ],
   "source": [
    "import torch\n",
    "print('PyTorch 版本', torch.__version__)"
   ]
  },
  {
   "cell_type": "code",
   "execution_count": 5,
   "id": "a10a2963-f825-45c1-93c1-ba26ef6b0431",
   "metadata": {},
   "outputs": [
    {
     "name": "stdout",
     "output_type": "stream",
     "text": [
      "ONNX 版本 1.17.0\n"
     ]
    }
   ],
   "source": [
    "import onnx\n",
    "print('ONNX 版本', onnx.__version__)"
   ]
  },
  {
   "cell_type": "code",
   "execution_count": 6,
   "id": "a4d17124-414b-47b3-a364-5d808c270485",
   "metadata": {},
   "outputs": [
    {
     "name": "stdout",
     "output_type": "stream",
     "text": [
      "ONNX Runtime 版本 1.19.2\n"
     ]
    }
   ],
   "source": [
    "import onnxruntime as ort\n",
    "print('ONNX Runtime 版本', ort.__version__)"
   ]
  },
  {
   "cell_type": "code",
   "execution_count": null,
   "id": "53eae0d0-a51b-478f-8cba-a54c87afcf70",
   "metadata": {},
   "outputs": [],
   "source": []
  }
 ],
 "metadata": {
  "kernelspec": {
   "display_name": "Python 3 (ipykernel)",
   "language": "python",
   "name": "python3"
  },
  "language_info": {
   "codemirror_mode": {
    "name": "ipython",
    "version": 3
   },
   "file_extension": ".py",
   "mimetype": "text/x-python",
   "name": "python",
   "nbconvert_exporter": "python",
   "pygments_lexer": "ipython3",
   "version": "3.8.10"
  }
 },
 "nbformat": 4,
 "nbformat_minor": 5
}
